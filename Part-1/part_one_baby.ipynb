{
  "nbformat": 4,
  "nbformat_minor": 0,
  "metadata": {
    "colab": {
      "provenance": []
    },
    "kernelspec": {
      "name": "python3",
      "display_name": "Python 3"
    },
    "language_info": {
      "name": "python"
    }
  },
  "cells": [
    {
      "cell_type": "code",
      "execution_count": 1,
      "metadata": {
        "colab": {
          "base_uri": "https://localhost:8080/"
        },
        "id": "ySAdZqqo5wtU",
        "outputId": "45c35db3-e205-411a-aa2c-e0c5c40e63e1"
      },
      "outputs": [
        {
          "output_type": "stream",
          "name": "stdout",
          "text": [
            "\r0% [Working]\r            \rHit:1 http://archive.ubuntu.com/ubuntu focal InRelease\n",
            "\r0% [Waiting for headers] [Connecting to security.ubuntu.com (185.125.190.36)] [\r                                                                               \rGet:2 http://archive.ubuntu.com/ubuntu focal-updates InRelease [114 kB]\n",
            "Get:3 https://cloud.r-project.org/bin/linux/ubuntu focal-cran40/ InRelease [3,622 B]\n",
            "Ign:4 https://developer.download.nvidia.com/compute/machine-learning/repos/ubuntu2004/x86_64  InRelease\n",
            "Get:5 http://security.ubuntu.com/ubuntu focal-security InRelease [114 kB]\n",
            "Hit:6 https://developer.download.nvidia.com/compute/cuda/repos/ubuntu2004/x86_64  InRelease\n",
            "Hit:7 http://ppa.launchpad.net/c2d4u.team/c2d4u4.0+/ubuntu focal InRelease\n",
            "Hit:8 https://developer.download.nvidia.com/compute/machine-learning/repos/ubuntu2004/x86_64  Release\n",
            "Get:9 http://archive.ubuntu.com/ubuntu focal-backports InRelease [108 kB]\n",
            "Hit:10 http://ppa.launchpad.net/cran/libgit2/ubuntu focal InRelease\n",
            "Hit:11 http://ppa.launchpad.net/deadsnakes/ppa/ubuntu focal InRelease\n",
            "Hit:12 http://ppa.launchpad.net/graphics-drivers/ppa/ubuntu focal InRelease\n",
            "Hit:13 http://ppa.launchpad.net/ubuntugis/ppa/ubuntu focal InRelease\n",
            "Get:14 http://archive.ubuntu.com/ubuntu focal-updates/main amd64 Packages [2,972 kB]\n",
            "Get:15 http://archive.ubuntu.com/ubuntu focal-updates/restricted amd64 Packages [2,069 kB]\n",
            "Get:16 http://archive.ubuntu.com/ubuntu focal-updates/universe amd64 Packages [1,299 kB]\n",
            "Get:18 http://archive.ubuntu.com/ubuntu focal-backports/universe amd64 Packages [28.6 kB]\n",
            "Get:19 http://security.ubuntu.com/ubuntu focal-security/universe amd64 Packages [1,000 kB]\n",
            "Get:20 http://security.ubuntu.com/ubuntu focal-security/main amd64 Packages [2,496 kB]\n",
            "Fetched 10.2 MB in 6s (1,782 kB/s)\n",
            "Reading package lists... Done\n"
          ]
        }
      ],
      "source": [
        "import os\n",
        "# Find the latest version of spark 3.2  from http://www.apache.org/dist/spark/ and enter as the spark version\n",
        "# For example:\n",
        "# spark_version = 'spark-3.2.3'\n",
        "spark_version = 'spark-3.2.3'\n",
        "os.environ['SPARK_VERSION']=spark_version\n",
        "\n",
        "# Install Spark and Java\n",
        "!apt-get update\n",
        "!apt-get install openjdk-8-jdk-headless -qq > /dev/null\n",
        "!wget -q http://www.apache.org/dist/spark/$SPARK_VERSION/$SPARK_VERSION-bin-hadoop3.2.tgz\n",
        "!tar xf $SPARK_VERSION-bin-hadoop3.2.tgz\n",
        "!pip install -q findspark\n",
        "\n",
        "# Set Environment Variables\n",
        "os.environ[\"JAVA_HOME\"] = \"/usr/lib/jvm/java-8-openjdk-amd64\"\n",
        "os.environ[\"SPARK_HOME\"] = f\"/content/{spark_version}-bin-hadoop3.2\"\n",
        "\n",
        "# Start a SparkSession\n",
        "import findspark\n",
        "findspark.init()"
      ]
    },
    {
      "cell_type": "code",
      "source": [
        "# Get postgresql package\n",
        "!wget https://jdbc.postgresql.org/download/postgresql-42.2.9.jar"
      ],
      "metadata": {
        "colab": {
          "base_uri": "https://localhost:8080/"
        },
        "id": "8CK8pjE06QXk",
        "outputId": "61e86183-f77a-492c-bf4d-cc468aa34c13"
      },
      "execution_count": 2,
      "outputs": [
        {
          "output_type": "stream",
          "name": "stdout",
          "text": [
            "--2023-02-27 15:46:08--  https://jdbc.postgresql.org/download/postgresql-42.2.9.jar\n",
            "Resolving jdbc.postgresql.org (jdbc.postgresql.org)... 72.32.157.228, 2001:4800:3e1:1::228\n",
            "Connecting to jdbc.postgresql.org (jdbc.postgresql.org)|72.32.157.228|:443... connected.\n",
            "HTTP request sent, awaiting response... 200 OK\n",
            "Length: 914037 (893K) [application/java-archive]\n",
            "Saving to: ‘postgresql-42.2.9.jar’\n",
            "\n",
            "postgresql-42.2.9.j 100%[===================>] 892.61K  5.25MB/s    in 0.2s    \n",
            "\n",
            "2023-02-27 15:46:09 (5.25 MB/s) - ‘postgresql-42.2.9.jar’ saved [914037/914037]\n",
            "\n"
          ]
        }
      ]
    },
    {
      "cell_type": "code",
      "source": [
        "# Import Spark and create a SparkSession\n",
        "from pyspark.sql import SparkSession\n",
        "spark = SparkSession.builder.appName(\"BigData-HW-1\").config(\"spark.driver.extraClassPath\",\"/content/postgresql-42.2.9.jar\").getOrCreate()"
      ],
      "metadata": {
        "id": "ZgphDGVv6ThE"
      },
      "execution_count": 3,
      "outputs": []
    },
    {
      "cell_type": "code",
      "source": [
        "# Read in the data from an S3 Bucket\n",
        "from pyspark import SparkFiles\n",
        "url = \"https://s3.amazonaws.com/amazon-reviews-pds/tsv/amazon_reviews_us_Baby_v1_00.tsv.gz\"\n",
        "spark.sparkContext.addFile(url)\n",
        "df = spark.read.csv(SparkFiles.get(\"amazon_reviews_us_Baby_v1_00.tsv.gz\"), sep=\"\\t\", header=True, inferSchema=True)\n",
        "\n",
        "df.show()"
      ],
      "metadata": {
        "colab": {
          "base_uri": "https://localhost:8080/"
        },
        "id": "7K1vIPfZ6V07",
        "outputId": "6b1535b8-4778-4e05-f26a-328eed254092"
      },
      "execution_count": 4,
      "outputs": [
        {
          "output_type": "stream",
          "name": "stdout",
          "text": [
            "+-----------+-----------+--------------+----------+--------------+--------------------+----------------+-----------+-------------+-----------+----+-----------------+--------------------+--------------------+-----------+\n",
            "|marketplace|customer_id|     review_id|product_id|product_parent|       product_title|product_category|star_rating|helpful_votes|total_votes|vine|verified_purchase|     review_headline|         review_body|review_date|\n",
            "+-----------+-----------+--------------+----------+--------------+--------------------+----------------+-----------+-------------+-----------+----+-----------------+--------------------+--------------------+-----------+\n",
            "|         US|    9970739| R8EWA1OFT84NX|B00GSP5D94|     329991347|Summer Infant Swa...|            Baby|          5|            0|          0|   N|                Y|Great swaddled bl...|Loved these swadd...| 2015-08-31|\n",
            "|         US|   23538442|R2JWY4YRQD4FOP|B00YYDDZGU|     646108902|Pacifier Clip Gir...|            Baby|          5|            0|          0|   N|                N|Too cute and real...|These are adorabl...| 2015-08-31|\n",
            "|         US|    8273344| RL5ESX231LZ0B|B00BUBNZC8|     642922361|Udder Covers - Br...|            Baby|          5|            0|          0|   N|                Y|          Five Stars|          Great gift| 2015-08-31|\n",
            "|         US|   24557753| RRMS9ZWJ2KD08|B00AWLZFTS|     494272733|Gerber Graduates ...|            Baby|          5|            0|          0|   N|                Y|Cute; wash up nic...|These forks are g...| 2015-08-31|\n",
            "|         US|   46263340|R14I3ZG5E6S7YM|B00KM60D3Q|     305813185|Summer Infant Ult...|            Baby|          5|            0|          0|   N|                Y|            Love it!|I wanted somethin...| 2015-08-31|\n",
            "|         US|   24557753|R13EPSFP5DODN5|B00PQMRZG4|     607341708|Summer Infant Kee...|            Baby|          4|            0|          0|   N|                Y|        Rips easily.|Loved with daught...| 2015-08-31|\n",
            "|         US|   33520065| R6RBP4HTE67SY|B005DL5970|     971881542|Natural HE Powder...|            Baby|          5|            0|          0|   N|                Y|Cloth Diaper Dete...|This is a great d...| 2015-08-31|\n",
            "|         US|   20241560|R15B3EU40RSU2W|B00C6D2WL4|      93827401|Dr. Brown's Bottl...|            Baby|          5|            0|          0|   N|                Y|          Five Stars|                good| 2015-08-31|\n",
            "|         US|    9987983| RP4DD53A4ZJA2|B0083973FK|     958629336|Sposie Booster Pa...|            Baby|          5|            0|          0|   N|                Y|          Five Stars|With these my mil...| 2015-08-31|\n",
            "|         US|   52570308|R2C99DJEO4RZ4K|B00RLYG2S2|     147324304|Abiie Beyond Wood...|            Baby|          5|            3|          4|   N|                Y|So far I love thi...|So far I love thi...| 2015-08-31|\n",
            "|         US|    9287389| REV51EW323H8W|B010UX9T5I|     446691106|Lovinglove Baby G...|            Baby|          5|            0|          0|   N|                Y|          Five Stars|           Love them| 2015-08-31|\n",
            "|         US|   32840762|R2GQ3W03WIUZKE|B00VWBY7SC|     271204734|Bugzi Stroller Ho...|            Baby|          5|            0|          0|   N|                Y|Love these hooks ...|Love these hooks ...| 2015-08-31|\n",
            "|         US|    7797182| RTI1YI7K6GE3D|B006ZBPH24|      67911244|Born Free 5 oz. B...|            Baby|          5|            0|          0|   N|                Y|          Five Stars|           very good| 2015-08-31|\n",
            "|         US|   14788115|R3V9C2C0SPSZU6|B00UGV8BEU|     613360092|Baby Bandana Bibs...|            Baby|          5|            0|          0|   N|                Y|            Perfect!|Love these bibs! ...| 2015-08-31|\n",
            "|         US|   37909065|R1LB42XCSSCLV6|B005BIOOYO|     527977399|Flip Stay-Dry Ins...|            Baby|          5|            0|          0|   N|                Y|best inserts for ...|I love these. The...| 2015-08-31|\n",
            "|         US|   15935520|R113NWCW6STTMC|B0071D1AKI|     634188771|Aqueduck The ORIG...|            Baby|          5|            0|          0|   N|                Y|        Very Helpful|This worked exact...| 2015-08-31|\n",
            "|         US|   16308044| RWRN5XK337N41|B00M2F0OYS|     166133791|Motorola Baby Mon...|            Baby|          1|            0|          0|   N|                N|Very Dissapointed...|I am so disappoin...| 2015-08-31|\n",
            "|         US|    8168178| RF4WL3QEP3PVI|B00QCBD5AS|     294351494|Minnie Mouse Delu...|            Baby|          1|            0|          0|   N|                Y|            One Star|Ordered minnie mo...| 2015-08-31|\n",
            "|         US|   23299101|R2DRL5NRODVQ3Z|B00SN6F9NG|       3470998|Rhoost Nail Clipp...|            Baby|          5|            2|          2|   N|                Y|If fits so comfor...|This is an absolu...| 2015-08-31|\n",
            "|         US|   14261025|R3T9B92MDDHKMM|B00J0YTS1E|     488640919|My Natural Owl Mu...|            Baby|          2|            5|          5|   N|                Y|Used to be great....|They changed the ...| 2015-08-31|\n",
            "+-----------+-----------+--------------+----------+--------------+--------------------+----------------+-----------+-------------+-----------+----+-----------------+--------------------+--------------------+-----------+\n",
            "only showing top 20 rows\n",
            "\n"
          ]
        }
      ]
    },
    {
      "cell_type": "code",
      "source": [
        "# Get the number of rows in the DataFrame.\n",
        "df.count()"
      ],
      "metadata": {
        "colab": {
          "base_uri": "https://localhost:8080/"
        },
        "id": "DQZfol0bArP2",
        "outputId": "0b0796c5-a94f-4e38-a4da-02e30279eaa7"
      },
      "execution_count": 5,
      "outputs": [
        {
          "output_type": "execute_result",
          "data": {
            "text/plain": [
              "1752932"
            ]
          },
          "metadata": {},
          "execution_count": 5
        }
      ]
    },
    {
      "cell_type": "markdown",
      "source": [
        "##Transform the Data"
      ],
      "metadata": {
        "id": "szL53GHTA_uH"
      }
    },
    {
      "cell_type": "markdown",
      "source": [
        "##Create the \"review_id_table\""
      ],
      "metadata": {
        "id": "YypYC18-BA42"
      }
    },
    {
      "cell_type": "code",
      "source": [
        "# check data types\n",
        "df.printSchema()"
      ],
      "metadata": {
        "colab": {
          "base_uri": "https://localhost:8080/"
        },
        "id": "dPTCNgIoB3bW",
        "outputId": "e5ffda17-d558-4627-bbef-63042262ade0"
      },
      "execution_count": 6,
      "outputs": [
        {
          "output_type": "stream",
          "name": "stdout",
          "text": [
            "root\n",
            " |-- marketplace: string (nullable = true)\n",
            " |-- customer_id: integer (nullable = true)\n",
            " |-- review_id: string (nullable = true)\n",
            " |-- product_id: string (nullable = true)\n",
            " |-- product_parent: integer (nullable = true)\n",
            " |-- product_title: string (nullable = true)\n",
            " |-- product_category: string (nullable = true)\n",
            " |-- star_rating: integer (nullable = true)\n",
            " |-- helpful_votes: integer (nullable = true)\n",
            " |-- total_votes: integer (nullable = true)\n",
            " |-- vine: string (nullable = true)\n",
            " |-- verified_purchase: string (nullable = true)\n",
            " |-- review_headline: string (nullable = true)\n",
            " |-- review_body: string (nullable = true)\n",
            " |-- review_date: string (nullable = true)\n",
            "\n"
          ]
        }
      ]
    },
    {
      "cell_type": "code",
      "source": [
        "from pyspark.sql.functions import to_date\n",
        "# Create the \"review_id_df\" DataFrame with the appropriate columns and data types.\n",
        "df = df.withColumn(\"review_date\",to_date(df.review_date))"
      ],
      "metadata": {
        "id": "Uvt-t8C5C1s2"
      },
      "execution_count": 7,
      "outputs": []
    },
    {
      "cell_type": "code",
      "source": [
        "# Check data types after changes\n",
        "df.printSchema()"
      ],
      "metadata": {
        "colab": {
          "base_uri": "https://localhost:8080/"
        },
        "id": "N-q6oTgzDkTv",
        "outputId": "54e8e074-4e2a-468f-ce63-f92ad5e9dd88"
      },
      "execution_count": 8,
      "outputs": [
        {
          "output_type": "stream",
          "name": "stdout",
          "text": [
            "root\n",
            " |-- marketplace: string (nullable = true)\n",
            " |-- customer_id: integer (nullable = true)\n",
            " |-- review_id: string (nullable = true)\n",
            " |-- product_id: string (nullable = true)\n",
            " |-- product_parent: integer (nullable = true)\n",
            " |-- product_title: string (nullable = true)\n",
            " |-- product_category: string (nullable = true)\n",
            " |-- star_rating: integer (nullable = true)\n",
            " |-- helpful_votes: integer (nullable = true)\n",
            " |-- total_votes: integer (nullable = true)\n",
            " |-- vine: string (nullable = true)\n",
            " |-- verified_purchase: string (nullable = true)\n",
            " |-- review_headline: string (nullable = true)\n",
            " |-- review_body: string (nullable = true)\n",
            " |-- review_date: date (nullable = true)\n",
            "\n"
          ]
        }
      ]
    },
    {
      "cell_type": "code",
      "source": [
        "\n",
        "review_id_df = df.select(\"review_id\",\"customer_id\",\"product_id\",\"product_parent\",\"review_date\")\n",
        "review_id_df.show()"
      ],
      "metadata": {
        "colab": {
          "base_uri": "https://localhost:8080/"
        },
        "id": "pFmZD2QZBDqt",
        "outputId": "87d5ab0f-9af4-466b-ed01-e6e9d2bed76a"
      },
      "execution_count": 9,
      "outputs": [
        {
          "output_type": "stream",
          "name": "stdout",
          "text": [
            "+--------------+-----------+----------+--------------+-----------+\n",
            "|     review_id|customer_id|product_id|product_parent|review_date|\n",
            "+--------------+-----------+----------+--------------+-----------+\n",
            "| R8EWA1OFT84NX|    9970739|B00GSP5D94|     329991347| 2015-08-31|\n",
            "|R2JWY4YRQD4FOP|   23538442|B00YYDDZGU|     646108902| 2015-08-31|\n",
            "| RL5ESX231LZ0B|    8273344|B00BUBNZC8|     642922361| 2015-08-31|\n",
            "| RRMS9ZWJ2KD08|   24557753|B00AWLZFTS|     494272733| 2015-08-31|\n",
            "|R14I3ZG5E6S7YM|   46263340|B00KM60D3Q|     305813185| 2015-08-31|\n",
            "|R13EPSFP5DODN5|   24557753|B00PQMRZG4|     607341708| 2015-08-31|\n",
            "| R6RBP4HTE67SY|   33520065|B005DL5970|     971881542| 2015-08-31|\n",
            "|R15B3EU40RSU2W|   20241560|B00C6D2WL4|      93827401| 2015-08-31|\n",
            "| RP4DD53A4ZJA2|    9987983|B0083973FK|     958629336| 2015-08-31|\n",
            "|R2C99DJEO4RZ4K|   52570308|B00RLYG2S2|     147324304| 2015-08-31|\n",
            "| REV51EW323H8W|    9287389|B010UX9T5I|     446691106| 2015-08-31|\n",
            "|R2GQ3W03WIUZKE|   32840762|B00VWBY7SC|     271204734| 2015-08-31|\n",
            "| RTI1YI7K6GE3D|    7797182|B006ZBPH24|      67911244| 2015-08-31|\n",
            "|R3V9C2C0SPSZU6|   14788115|B00UGV8BEU|     613360092| 2015-08-31|\n",
            "|R1LB42XCSSCLV6|   37909065|B005BIOOYO|     527977399| 2015-08-31|\n",
            "|R113NWCW6STTMC|   15935520|B0071D1AKI|     634188771| 2015-08-31|\n",
            "| RWRN5XK337N41|   16308044|B00M2F0OYS|     166133791| 2015-08-31|\n",
            "| RF4WL3QEP3PVI|    8168178|B00QCBD5AS|     294351494| 2015-08-31|\n",
            "|R2DRL5NRODVQ3Z|   23299101|B00SN6F9NG|       3470998| 2015-08-31|\n",
            "|R3T9B92MDDHKMM|   14261025|B00J0YTS1E|     488640919| 2015-08-31|\n",
            "+--------------+-----------+----------+--------------+-----------+\n",
            "only showing top 20 rows\n",
            "\n"
          ]
        }
      ]
    },
    {
      "cell_type": "code",
      "source": [
        "review_id_df.count()"
      ],
      "metadata": {
        "colab": {
          "base_uri": "https://localhost:8080/"
        },
        "id": "HRprG-pX269_",
        "outputId": "2daac319-b809-451a-c769-fce7fa2723a8"
      },
      "execution_count": 10,
      "outputs": [
        {
          "output_type": "execute_result",
          "data": {
            "text/plain": [
              "1752932"
            ]
          },
          "metadata": {},
          "execution_count": 10
        }
      ]
    },
    {
      "cell_type": "markdown",
      "source": [
        "##Create the \"products\" Table"
      ],
      "metadata": {
        "id": "0b_YArjEEgro"
      }
    },
    {
      "cell_type": "code",
      "source": [
        "# Create the \"products_df\" DataFrame that drops the duplicates in the \"product_id\" and \"product_title columns. \n",
        "products_df = df.select(\"product_id\",\"product_title\").dropDuplicates([\"product_id\",\"product_title\"])\n",
        "products_df.show(truncate=False)"
      ],
      "metadata": {
        "colab": {
          "base_uri": "https://localhost:8080/"
        },
        "id": "iTfWULp7EjDR",
        "outputId": "14e1d5af-5f8a-48e2-a718-bb467dd7c897"
      },
      "execution_count": 12,
      "outputs": [
        {
          "output_type": "stream",
          "name": "stdout",
          "text": [
            "+----------+-------------------------------------------------------------------------------------------------------------------------------------------------------------------------------------------------------+\n",
            "|product_id|product_title                                                                                                                                                                                          |\n",
            "+----------+-------------------------------------------------------------------------------------------------------------------------------------------------------------------------------------------------------+\n",
            "|B00Y8QMQN6|Best Baby Teether - 4 Silicone Sensory Teething Ring Toys - Fun, Colorful and BPA-Free - Soothing Pain Relief and Drool Proof Infant Toys - Solve Teething Now!                                        |\n",
            "|B002WN2BY6|The First Years True Choice P400 Premium Digital Monitor, 2 Parent Unit (Discontinued by Manufacturer)                                                                                                 |\n",
            "|B000AV7O4O|Boon Frog Pod Bath Toy Scoop,Green (Discontinued by Manufacturer)                                                                                                                                      |\n",
            "|B00UFOBDNY|Kinsa Smart Stick Digital Thermometer – Medical Thermometer with Fever & Health Tracking for Children and Adults                                                                                       |\n",
            "|B00XF7DZ34|Critter Piller Kid's Neck Pillow                                                                                                                                                                       |\n",
            "|B00WKIR22E|Poly Comfortable Cotton Baby Sling Newborn Kid Cradle Infant Sling Wrap Rider Carrier Nursing Great for Discrete Easy Breastfeeding Inside the Sling                                                   |\n",
            "|B001EU35BQ|Peg Perego Tatamia Stripes                                                                                                                                                                             |\n",
            "|B001TWI81G|Thermos Reusable Ice Mat Food Saver                                                                                                                                                                    |\n",
            "|B007EJ7J4U|Kaloo Doudou Beige Bear                                                                                                                                                                                |\n",
            "|B00M8MGGQA|Large Baby Bag Organizer in Khaki                                                                                                                                                                      |\n",
            "|B00Y2CJWKQ|Clinical Digital Thermometer Best to Read & Monitor Fever Temperature in 15 Seconds by Oral Rectal Underarm & Axillary - Professional Thermometers & Reliable Readings for Baby, Adult & Children      |\n",
            "|B00Y8ION80|★ Baby Pacifier & Stuffed Animal Pacifier Holder Set ★ Detach Baby Pacifier Holder ★ Clip Your Favorite Paci Binky Teether to Soothe – Caterpillar Cuddly Pal – Perfect Baby Shower Gift for Boys Girls|\n",
            "|B00UJOWZ96|Corner Cushion Baby Protector - Soft Guards for Babies and Toddlers - Protect Children from Sharp Edges of Tables and Desks                                                                            |\n",
            "|B00DZ3K64Y|Sassy Soft Grip Nail Clippers, Monkey                                                                                                                                                                  |\n",
            "|B00JBYPKE2|Maxi Cosi Pria 85 Convertible Car Seat with BONUS Recaro Retractable Window Sun Shade                                                                                                                  |\n",
            "|B00HK6GWTU|Ju-Ju-Be Be Light Purse Bag                                                                                                                                                                            |\n",
            "|B00IYU4O8W|Lamaze Cloth Book                                                                                                                                                                                      |\n",
            "|B00SCDM4FQ|Olababy Silicone Sleeve for AVENT Natural Glass Bottles                                                                                                                                                |\n",
            "|B004UOTWJ2|Charlie Banana - Washable Nursing Pads Black                                                                                                                                                           |\n",
            "|B001LF3YQK|Skip Hop Baby Swipe Baby Wipes Case with Button Slide and Attachable Strap, Red                                                                                                                        |\n",
            "+----------+-------------------------------------------------------------------------------------------------------------------------------------------------------------------------------------------------------+\n",
            "only showing top 20 rows\n",
            "\n"
          ]
        }
      ]
    },
    {
      "cell_type": "code",
      "source": [
        "products_df.count()"
      ],
      "metadata": {
        "colab": {
          "base_uri": "https://localhost:8080/"
        },
        "id": "Ju73hAQFEoI2",
        "outputId": "c9da5254-f611-4e81-c105-d89133ab0b99"
      },
      "execution_count": 13,
      "outputs": [
        {
          "output_type": "execute_result",
          "data": {
            "text/plain": [
              "160178"
            ]
          },
          "metadata": {},
          "execution_count": 13
        }
      ]
    },
    {
      "cell_type": "markdown",
      "source": [
        "##Create the \"customers\" Table"
      ],
      "metadata": {
        "id": "h89nSksiEr7C"
      }
    },
    {
      "cell_type": "code",
      "source": [
        "# Create the \"customers_df\" DataFrame that groups the data on the \"customer_id\" by the number of times a customer reviewed a product. \n",
        "customers_df = df.groupBy(\"customer_id\").count()\n",
        "customers_df = customers_df.withColumnRenamed(\"count\",\"customer_count\")\n",
        "customers_df.orderBy(customers_df[\"customer_count\"].desc()).show()"
      ],
      "metadata": {
        "colab": {
          "base_uri": "https://localhost:8080/"
        },
        "id": "tfqlwojyEvIx",
        "outputId": "7c35da1e-0965-485d-f1c2-792ebe20c391"
      },
      "execution_count": 14,
      "outputs": [
        {
          "output_type": "stream",
          "name": "stdout",
          "text": [
            "+-----------+--------------+\n",
            "|customer_id|customer_count|\n",
            "+-----------+--------------+\n",
            "|   12084007|           192|\n",
            "|   51591392|           141|\n",
            "|   49633579|           140|\n",
            "|   52457037|           114|\n",
            "|   13103726|           112|\n",
            "|   51983887|           109|\n",
            "|   46137405|           105|\n",
            "|   46106653|           105|\n",
            "|   31461331|           105|\n",
            "|   14389539|           102|\n",
            "|   52097584|           101|\n",
            "|   43715603|            99|\n",
            "|   45725380|            98|\n",
            "|   13404682|            98|\n",
            "|   48428870|            93|\n",
            "|   31546953|            90|\n",
            "|   38555595|            89|\n",
            "|   46912614|            87|\n",
            "|   48384094|            86|\n",
            "|   50785324|            85|\n",
            "+-----------+--------------+\n",
            "only showing top 20 rows\n",
            "\n"
          ]
        }
      ]
    },
    {
      "cell_type": "code",
      "source": [
        "customers_df.count()"
      ],
      "metadata": {
        "colab": {
          "base_uri": "https://localhost:8080/"
        },
        "id": "2d_fm-ON29N5",
        "outputId": "1360d974-d08a-4bfe-9567-b87e6b153d05"
      },
      "execution_count": 15,
      "outputs": [
        {
          "output_type": "execute_result",
          "data": {
            "text/plain": [
              "962117"
            ]
          },
          "metadata": {},
          "execution_count": 15
        }
      ]
    },
    {
      "cell_type": "markdown",
      "source": [
        "##Create the \"vine_table\"."
      ],
      "metadata": {
        "id": "7GfPZrkOF7vN"
      }
    },
    {
      "cell_type": "code",
      "source": [
        "# Create the \"vine_df\" DataFrame that has the \"review_id\", \"star_rating\", \"helpful_votes\", \"total_votes\", and \"vine\" columns. \n",
        "vine_df = df.select(\"review_id\",\"star_rating\",\"helpful_votes\",\"total_votes\",\"vine\")\n",
        "vine_df.orderBy(vine_df[\"total_votes\"].desc()).show()"
      ],
      "metadata": {
        "colab": {
          "base_uri": "https://localhost:8080/"
        },
        "id": "eEVxt9cAF-7p",
        "outputId": "5ab966a8-e3d4-490c-d217-72001216a474"
      },
      "execution_count": 16,
      "outputs": [
        {
          "output_type": "stream",
          "name": "stdout",
          "text": [
            "+--------------+-----------+-------------+-----------+----+\n",
            "|     review_id|star_rating|helpful_votes|total_votes|vine|\n",
            "+--------------+-----------+-------------+-----------+----+\n",
            "|R1SYIVJAAO64D6|          5|         5245|       5471|   N|\n",
            "| R4C1HKI1LDFYA|          5|         2777|       2803|   N|\n",
            "|R3FLGAIB11MCAK|          3|         2482|       2739|   N|\n",
            "|R2VC74WN54ZU7A|          4|         2621|       2738|   N|\n",
            "|R3B5DVPWH12GAG|          5|         2123|       2183|   N|\n",
            "|R1ELFB8E08WF4U|          4|         2016|       2166|   N|\n",
            "|R3KMK5RWXY422Y|          5|         2008|       2115|   N|\n",
            "|R2LBTZOH29KP8E|          2|         1923|       1978|   N|\n",
            "|R2BD07MZG8KEBZ|          5|         1889|       1901|   N|\n",
            "| RY4ZH927N5C4J|          5|         1824|       1873|   N|\n",
            "|R1M6G8T9SFRYCQ|          4|         1714|       1864|   N|\n",
            "|R34FW0UWRWQG9H|          3|         1811|       1820|   N|\n",
            "| R5I5PIC436TAZ|          5|         1701|       1753|   N|\n",
            "|R130WZMDSVEGRJ|          5|         1680|       1752|   N|\n",
            "|R18NL3WA7Z1RFW|          5|         1550|       1631|   N|\n",
            "| RWOIDD8ND3JOX|          5|         1588|       1608|   N|\n",
            "|R3H93U55IRPTZ4|          5|         1570|       1599|   N|\n",
            "| RCYJV6MJECVJ3|          5|         1576|       1593|   N|\n",
            "|R19I80SMENX9O7|          5|         1506|       1587|   N|\n",
            "|R2XYO55CMSZ245|          5|         1537|       1542|   N|\n",
            "+--------------+-----------+-------------+-----------+----+\n",
            "only showing top 20 rows\n",
            "\n"
          ]
        }
      ]
    },
    {
      "cell_type": "code",
      "source": [
        "vine_df.count()"
      ],
      "metadata": {
        "colab": {
          "base_uri": "https://localhost:8080/"
        },
        "id": "XWvs3GkA3DdB",
        "outputId": "c7db5231-14c1-4e85-ede2-29bc48c4d1b3"
      },
      "execution_count": 17,
      "outputs": [
        {
          "output_type": "execute_result",
          "data": {
            "text/plain": [
              "1752932"
            ]
          },
          "metadata": {},
          "execution_count": 17
        }
      ]
    },
    {
      "cell_type": "markdown",
      "source": [
        "##Load"
      ],
      "metadata": {
        "id": "TKJ8A4CuGgSl"
      }
    },
    {
      "cell_type": "code",
      "source": [
        "mode = \"append\"\n",
        "jdbc_url=\"jdbc:postgresql://:5432/\"\n",
        "config = {\"user\":\"\", \"password\": \"\", \"driver\":\"org.postgresql.Driver\"}"
      ],
      "metadata": {
        "id": "HfnTTAyzGiW2"
      },
      "execution_count": null,
      "outputs": []
    },
    {
      "cell_type": "code",
      "source": [
        "# Write review_id_df to table in RDS\n",
        "review_id_df.write.jdbc(url=jdbc_url, table='baby_review_id_table', mode=mode, properties=config)"
      ],
      "metadata": {
        "id": "79S_Jr7SHXhv"
      },
      "execution_count": null,
      "outputs": []
    },
    {
      "cell_type": "code",
      "source": [
        "# Write products_df to table in RDS\n",
        "products_df.write.jdbc(url=jdbc_url, table='baby_products', mode=mode, properties=config)"
      ],
      "metadata": {
        "id": "sTKs1o89HdCp"
      },
      "execution_count": null,
      "outputs": []
    },
    {
      "cell_type": "code",
      "source": [
        "# Write customers_df to table in RDS\n",
        "customers_df.write.jdbc(url=jdbc_url, table='baby_customers', mode=mode, properties=config)"
      ],
      "metadata": {
        "id": "elHTSQW4Hgj4"
      },
      "execution_count": null,
      "outputs": []
    },
    {
      "cell_type": "code",
      "source": [
        "# Write vine_df to table in RDS\n",
        "vine_df.write.jdbc(url=jdbc_url, table='baby_vine_table', mode=mode, properties=config)"
      ],
      "metadata": {
        "id": "Uqt-CM38HlW_"
      },
      "execution_count": null,
      "outputs": []
    }
  ]
}